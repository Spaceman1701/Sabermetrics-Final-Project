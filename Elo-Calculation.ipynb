{
 "cells": [
  {
   "cell_type": "code",
   "execution_count": 1,
   "metadata": {
    "ExecuteTime": {
     "end_time": "2018-05-05T22:46:53.976126Z",
     "start_time": "2018-05-05T22:46:53.714187Z"
    }
   },
   "outputs": [],
   "source": [
    "import numpy as np\n",
    "import pandas as pd\n",
    "import json\n",
    "from collections import defaultdict"
   ]
  },
  {
   "cell_type": "code",
   "execution_count": 10,
   "metadata": {
    "ExecuteTime": {
     "end_time": "2018-05-05T22:50:40.640266Z",
     "start_time": "2018-05-05T22:50:40.346016Z"
    }
   },
   "outputs": [],
   "source": [
    "np.seterr('print')\n",
    "class EloCalculator:\n",
    "    def __init__(self, events_path, batter_path, pitcher_path, elo_path, starting_elo=1500):\n",
    "        self.dfEvents = pd.read_csv(events_path)\n",
    "        self.dfBatter = pd.read_csv(batter_path)\n",
    "        self.dfPitcher = pd.read_csv(pitcher_path)\n",
    "        \n",
    "        self.elo_table = pd.read_csv(elo_path)\n",
    "        self.elo_dict = dict(zip(self.elo_table['player_id'], self.elo_table['elo_rating']))\n",
    "        \n",
    "        self.starting_elo = starting_elo\n",
    "        \n",
    "        self.batters = []\n",
    "        \n",
    "        self.pitchers = []\n",
    "        \n",
    "        self.current_index = 0\n",
    "\n",
    "        # Pandas .apply() is the worst\n",
    "        for _, row in self.dfBatter.iterrows():\n",
    "            self.add_player(row, self.batters)\n",
    "            \n",
    "        for _, row in self.dfPitcher.iterrows():\n",
    "            self.add_player(row, self.batters)\n",
    "        \n",
    "    def add_player(self, row, players_dict):\n",
    "        players_dict.append(self.get_player_object(\n",
    "            row['player_id'], row['nameFirst'], row['nameLast'], row['teamID']))\n",
    "        \n",
    "    def get_player_object(self, player_id, first_name, last_name, team):\n",
    "        player = {\n",
    "            'player_id': player_id,\n",
    "            'name': first_name + ' ' + last_name,\n",
    "            'team': team,\n",
    "            'elo': [self.starting_elo],\n",
    "            'norm_elo': [0]\n",
    "        }\n",
    "        return player\n",
    "        \n",
    "    def calc_season_elo(self, k=2):\n",
    "        self.k = k\n",
    "        num_rows = self.dfEvents.shape[0]\n",
    "        prev_prop = 0\n",
    "        i = 0\n",
    "        \n",
    "        for _, row in self.dfEvents.iterrows():\n",
    "            curr_prop = i/num_rows\n",
    "            if (curr_prop - prev_prop) > 1/10:\n",
    "                print(curr_prop)\n",
    "                self.save_snapshot()\n",
    "                prev_prop = curr_prop\n",
    "\n",
    "            self.update_elo(row['bat_id'], row['pit_id'], row['batter_score'], row['pitcher_score'])\n",
    "            i += 1\n",
    "            \n",
    "    def save_snapshot(self):\n",
    "        bat_elos = []\n",
    "        pit_elos = []\n",
    "        bat_max = 0\n",
    "        pit_max = 0\n",
    "        # Welcome to hell\n",
    "        for player_object in self.batters:\n",
    "            current_elo = self.elo_dict[player_object['player_id']]\n",
    "            if current_elo > bat_max:\n",
    "                bat_max = current_elo\n",
    "            bat_elos.append(current_elo)\n",
    "\n",
    "        for player_object in self.pitchers:\n",
    "            current_elo = self.elo_dict[player_object['player_id']]\n",
    "            if current_elo > pit_max:\n",
    "                pit_max = current_elo\n",
    "            pit_elos.append(current_elo)\n",
    "        \n",
    "        bat_mean = np.mean(bat_elos)\n",
    "        pit_mean = np.mean(pit_elos)\n",
    "\n",
    "        for player_object in self.batters:\n",
    "            current_elo = self.elo_dict[player_object['player_id']]\n",
    "            player_object['elo'].append(current_elo)\n",
    "            player_object['norm_elo'].append((current_elo-bat_mean)/bat_max)\n",
    "            \n",
    "        for player_object in self.pitchers:\n",
    "            current_elo = self.elo_dict[player_object['player_id']]\n",
    "            player_object['elo'][self.current_index] = current_elo\n",
    "            player_object['norm_elo'].append((current_elo-pit_mean)/pit_max)\n",
    "\n",
    "    def update_elo(self, bat_id, pit_id, bat_score, pit_score):\n",
    "            bat_exp, pit_exp = self.get_expected(bat_id, pit_id)\n",
    "            bat_curr = self.elo_dict[bat_id]\n",
    "            pit_curr = self.elo_dict[pit_id]\n",
    "            \n",
    "            bat_new = self.calc_new(bat_curr, bat_score, bat_exp)\n",
    "            pit_new = self.calc_new(pit_curr, pit_score, pit_exp)\n",
    "\n",
    "            self.elo_dict[bat_id] = bat_new\n",
    "            self.elo_dict[pit_id] = pit_new\n",
    "\n",
    "    def get_expected(self, bat_id, pit_id):\n",
    "        bat_diff = self.elo_dict[bat_id] - self.elo_dict[pit_id]\n",
    "        pit_diff = -bat_diff\n",
    "        return self.calc_expected(bat_diff), self.calc_expected(pit_diff)\n",
    "\n",
    "    def calc_expected(self, diff):\n",
    "        return 1/(1+(np.power(10, (diff/400))))\n",
    "\n",
    "    def calc_new(self, curr, score, exp):\n",
    "        return curr+(self.k*(score-exp))    "
   ]
  },
  {
   "cell_type": "code",
   "execution_count": 11,
   "metadata": {
    "ExecuteTime": {
     "end_time": "2018-05-05T22:50:59.028499Z",
     "start_time": "2018-05-05T22:50:41.214550Z"
    },
    "scrolled": true
   },
   "outputs": [
    {
     "name": "stdout",
     "output_type": "stream",
     "text": [
      "0.10000051613169617\n"
     ]
    },
    {
     "name": "stderr",
     "output_type": "stream",
     "text": [
      "/home/odin/anaconda3/lib/python3.6/site-packages/numpy/core/fromnumeric.py:2957: RuntimeWarning: Mean of empty slice.\n",
      "  out=out, **kwargs)\n"
     ]
    },
    {
     "name": "stdout",
     "output_type": "stream",
     "text": [
      "0.20000103226339233\n",
      "0.30000154839508847\n",
      "0.40000206452678466\n",
      "0.5000025806584808\n",
      "0.6000030967901769\n",
      "0.7000036129218732\n",
      "0.8000041290535693\n",
      "0.9000046451852655\n"
     ]
    }
   ],
   "source": [
    "elo = EloCalculator('data/events_elo.csv', 'data/batters.csv', 'data/pitchers.csv', 'data/elo.csv')\n",
    "elo.calc_season_elo()"
   ]
  },
  {
   "cell_type": "code",
   "execution_count": 15,
   "metadata": {
    "ExecuteTime": {
     "end_time": "2018-05-05T22:55:42.859749Z",
     "start_time": "2018-05-05T22:55:42.773107Z"
    },
    "scrolled": true
   },
   "outputs": [],
   "source": [
    "batter_json = {'players': elo.batters}\n",
    "pitcher_json = {'players': elo.pitchers}\n",
    "\n",
    "\n",
    "with open('output/batters.json', 'w') as outfile:\n",
    "    json.dump(batter_json, outfile)\n",
    "    \n",
    "with open('output/pitchers.json', 'w') as outfile:\n",
    "    json.dump(pitcher_json, outfile)"
   ]
  },
  {
   "cell_type": "code",
   "execution_count": null,
   "metadata": {
    "ExecuteTime": {
     "end_time": "2018-05-05T21:11:26.761745Z",
     "start_time": "2018-05-05T21:11:26.757478Z"
    }
   },
   "outputs": [],
   "source": [
    "dfElo = elo.get_df()"
   ]
  },
  {
   "cell_type": "code",
   "execution_count": null,
   "metadata": {
    "ExecuteTime": {
     "end_time": "2018-05-05T21:11:26.805955Z",
     "start_time": "2018-05-05T21:11:26.763211Z"
    }
   },
   "outputs": [],
   "source": [
    "dfElo.head()"
   ]
  },
  {
   "cell_type": "code",
   "execution_count": null,
   "metadata": {
    "ExecuteTime": {
     "end_time": "2018-05-05T21:11:26.867373Z",
     "start_time": "2018-05-05T21:11:26.807774Z"
    },
    "scrolled": true
   },
   "outputs": [],
   "source": [
    "elo.snapshots[1]"
   ]
  },
  {
   "cell_type": "code",
   "execution_count": null,
   "metadata": {
    "ExecuteTime": {
     "end_time": "2018-05-05T21:14:03.928378Z",
     "start_time": "2018-05-05T21:14:03.894207Z"
    }
   },
   "outputs": [],
   "source": [
    "dfBat = pd.read_csv('data/batters.csv')\n",
    "dfPit = pd.read_csv('data/pitchers.csv')\n",
    "\n",
    "dfBat = pd.merge(dfElo, dfBat, left_on='player_id', right_on='player_id')\n",
    "dfBat = pd.merge(elo.elo_table, dfBat, left_on=['player_id'],\n",
    "                 right_on=['player_id'])\n",
    "\n",
    "dfPit = pd.merge(dfElo, dfPit, left_on='player_id', right_on='player_id')\n",
    "dfPit = pd.merge(elo.elo_table, dfPit, left_on=['player_id'],\n",
    "                 right_on=['player_id'])\n",
    "\n",
    "dfBat = dfBat.drop_duplicates(subset=['player_id', 'C'])\n",
    "dfPit = dfPit.drop_duplicates(subset=['player_id', 'C'])\n",
    "\n",
    "dfBat.to_csv('output/bat_elo.csv')\n",
    "dfPit.to_csv('output/pit_elo.csv')"
   ]
  },
  {
   "cell_type": "code",
   "execution_count": null,
   "metadata": {
    "ExecuteTime": {
     "end_time": "2018-05-05T21:14:04.969625Z",
     "start_time": "2018-05-05T21:14:04.918543Z"
    }
   },
   "outputs": [],
   "source": [
    "dfBat"
   ]
  },
  {
   "cell_type": "code",
   "execution_count": null,
   "metadata": {
    "ExecuteTime": {
     "end_time": "2018-05-05T21:14:07.931545Z",
     "start_time": "2018-05-05T21:14:07.813376Z"
    }
   },
   "outputs": [],
   "source": [
    "events = pd.read_csv('data/events_elo.csv')\n",
    "events.head()"
   ]
  },
  {
   "cell_type": "code",
   "execution_count": null,
   "metadata": {
    "ExecuteTime": {
     "end_time": "2018-05-05T21:11:26.969875Z",
     "start_time": "2018-05-05T21:11:12.227Z"
    }
   },
   "outputs": [],
   "source": [
    "dfBat.head()"
   ]
  },
  {
   "cell_type": "code",
   "execution_count": null,
   "metadata": {
    "ExecuteTime": {
     "end_time": "2018-05-05T21:11:26.970504Z",
     "start_time": "2018-05-05T21:11:12.874Z"
    }
   },
   "outputs": [],
   "source": [
    "elo.elo_table.head()"
   ]
  },
  {
   "cell_type": "code",
   "execution_count": null,
   "metadata": {},
   "outputs": [],
   "source": []
  }
 ],
 "metadata": {
  "kernelspec": {
   "display_name": "Python 3",
   "language": "python",
   "name": "python3"
  },
  "language_info": {
   "codemirror_mode": {
    "name": "ipython",
    "version": 3
   },
   "file_extension": ".py",
   "mimetype": "text/x-python",
   "name": "python",
   "nbconvert_exporter": "python",
   "pygments_lexer": "ipython3",
   "version": "3.6.4"
  }
 },
 "nbformat": 4,
 "nbformat_minor": 2
}
