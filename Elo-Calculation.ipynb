{
 "cells": [
  {
   "cell_type": "code",
   "execution_count": 1,
   "metadata": {
    "ExecuteTime": {
     "end_time": "2018-05-04T21:53:28.262441Z",
     "start_time": "2018-05-04T21:53:27.771663Z"
    }
   },
   "outputs": [],
   "source": [
    "import numpy as np\n",
    "import pandas as pd"
   ]
  },
  {
   "cell_type": "code",
   "execution_count": 99,
   "metadata": {
    "ExecuteTime": {
     "end_time": "2018-05-04T23:03:00.409510Z",
     "start_time": "2018-05-04T23:03:00.315827Z"
    }
   },
   "outputs": [],
   "source": [
    "class EloCalculator:\n",
    "    def __init__(self, events_path, elo_path):\n",
    "        self.elo_path = elo_path\n",
    "        self.events = pd.read_csv('data/events_elo.csv')\n",
    "        self.elo_table = pd.read_csv(self.elo_path)\n",
    "        self.elo_dict = dict(zip(self.elo_table['player_id'], self.elo_table['elo_rating']))\n",
    "\n",
    "    def calc_season_elo(self, k=2):\n",
    "        self.k = k\n",
    "        for _, row in self.events.iterrows():\n",
    "            self.update_elo(row['bat_id'], row['pit_id'], row['batter_score'], row['pitcher_score'])\n",
    "\n",
    "    def update_elo(self, bat_id, pit_id, bat_score, pit_score):\n",
    "            bat_exp, pit_exp = self.get_expected(bat_id, pit_id)\n",
    "            bat_curr = self.elo_dict[bat_id]\n",
    "            pit_curr = self.elo_dict[pit_id]\n",
    "            \n",
    "            bat_new = self.calc_new(bat_curr, bat_score, bat_exp)\n",
    "            pit_new = self.calc_new(pit_curr, pit_score, pit_exp)\n",
    "\n",
    "            self.elo_dict[bat_id] = bat_new\n",
    "            self.elo_dict[pit_id] = pit_new\n",
    "\n",
    "    def get_expected(self, bat_id, pit_id):\n",
    "        bat_diff = self.elo_dict[bat_id] - elo_dict[pit_id]\n",
    "        pit_diff = -bat_diff\n",
    "        return self.calc_expected(bat_diff), self.calc_expected(pit_diff)\n",
    "\n",
    "    def calc_expected(self, diff):\n",
    "        return 1/(1+(np.power(10, (diff/400))))\n",
    "\n",
    "    def calc_new(self, curr, score, exp):\n",
    "        return curr+(self.k*(score-exp))\n",
    "    \n",
    "    def get_dict(self):\n",
    "        return self.elo_dict\n",
    "    \n",
    "    def get_df(self):\n",
    "        list_dict = {}\n",
    "        for k, v in self.elo_dict.items():\n",
    "            list_dict[k] = [v]\n",
    "        dfElo = pd.DataFrame.from_dict(list_dict, orient=\"index\").reset_index()\n",
    "        dfElo.columns = [\"player_id\", \"elo\"]\n",
    "        return dfElo\n",
    "        \n",
    "    def reset_df(self):\n",
    "        self.elo_table = pd.read_csv(self.elo_path)        "
   ]
  },
  {
   "cell_type": "code",
   "execution_count": 102,
   "metadata": {
    "ExecuteTime": {
     "end_time": "2018-05-04T23:03:21.579531Z",
     "start_time": "2018-05-04T23:03:04.829878Z"
    }
   },
   "outputs": [],
   "source": [
    "elo = EloCalculator('data/events_elo.csv', 'data/elo.csv')\n",
    "elo.calc_season_elo()"
   ]
  },
  {
   "cell_type": "code",
   "execution_count": 103,
   "metadata": {
    "ExecuteTime": {
     "end_time": "2018-05-04T23:03:21.585236Z",
     "start_time": "2018-05-04T23:03:21.580909Z"
    }
   },
   "outputs": [],
   "source": [
    "dfElo = elo.get_df()"
   ]
  },
  {
   "cell_type": "code",
   "execution_count": 104,
   "metadata": {
    "ExecuteTime": {
     "end_time": "2018-05-04T23:03:21.629007Z",
     "start_time": "2018-05-04T23:03:21.586486Z"
    }
   },
   "outputs": [
    {
     "data": {
      "text/html": [
       "<div>\n",
       "<style scoped>\n",
       "    .dataframe tbody tr th:only-of-type {\n",
       "        vertical-align: middle;\n",
       "    }\n",
       "\n",
       "    .dataframe tbody tr th {\n",
       "        vertical-align: top;\n",
       "    }\n",
       "\n",
       "    .dataframe thead th {\n",
       "        text-align: right;\n",
       "    }\n",
       "</style>\n",
       "<table border=\"1\" class=\"dataframe\">\n",
       "  <thead>\n",
       "    <tr style=\"text-align: right;\">\n",
       "      <th></th>\n",
       "      <th>player_id</th>\n",
       "      <th>elo</th>\n",
       "    </tr>\n",
       "  </thead>\n",
       "  <tbody>\n",
       "    <tr>\n",
       "      <th>0</th>\n",
       "      <td>zimmr001</td>\n",
       "      <td>978.987428</td>\n",
       "    </tr>\n",
       "    <tr>\n",
       "      <th>1</th>\n",
       "      <td>zimmj003</td>\n",
       "      <td>2231.946184</td>\n",
       "    </tr>\n",
       "    <tr>\n",
       "      <th>2</th>\n",
       "      <td>wertj001</td>\n",
       "      <td>1241.275871</td>\n",
       "    </tr>\n",
       "    <tr>\n",
       "      <th>3</th>\n",
       "      <td>waltz001</td>\n",
       "      <td>1498.856074</td>\n",
       "    </tr>\n",
       "    <tr>\n",
       "      <th>4</th>\n",
       "      <td>tracc001</td>\n",
       "      <td>1415.709909</td>\n",
       "    </tr>\n",
       "  </tbody>\n",
       "</table>\n",
       "</div>"
      ],
      "text/plain": [
       "  player_id          elo\n",
       "0  zimmr001   978.987428\n",
       "1  zimmj003  2231.946184\n",
       "2  wertj001  1241.275871\n",
       "3  waltz001  1498.856074\n",
       "4  tracc001  1415.709909"
      ]
     },
     "execution_count": 104,
     "metadata": {},
     "output_type": "execute_result"
    }
   ],
   "source": [
    "dfElo.head()"
   ]
  },
  {
   "cell_type": "code",
   "execution_count": 117,
   "metadata": {
    "ExecuteTime": {
     "end_time": "2018-05-04T23:15:53.220352Z",
     "start_time": "2018-05-04T23:15:53.193249Z"
    }
   },
   "outputs": [],
   "source": [
    "dfBat = pd.read_csv('data/batters.csv')\n",
    "dfPit = pd.read_csv('data/pitchers.csv')\n",
    "\n",
    "dfBat = pd.merge(dfBat, dfElo, left_on='player_id', right_on='player_id')\n",
    "dfPit = pd.merge(dfPit, dfElo, left_on='player_id', right_on='player_id')\n",
    "\n",
    "dfBat.to_csv('data/bat_elo.csv')\n",
    "dfPit.to_csv('data/pit_elo.csv')"
   ]
  },
  {
   "cell_type": "code",
   "execution_count": 115,
   "metadata": {
    "ExecuteTime": {
     "end_time": "2018-05-04T23:14:53.913407Z",
     "start_time": "2018-05-04T23:14:53.903884Z"
    }
   },
   "outputs": [
    {
     "data": {
      "text/html": [
       "<div>\n",
       "<style scoped>\n",
       "    .dataframe tbody tr th:only-of-type {\n",
       "        vertical-align: middle;\n",
       "    }\n",
       "\n",
       "    .dataframe tbody tr th {\n",
       "        vertical-align: top;\n",
       "    }\n",
       "\n",
       "    .dataframe thead th {\n",
       "        text-align: right;\n",
       "    }\n",
       "</style>\n",
       "<table border=\"1\" class=\"dataframe\">\n",
       "  <thead>\n",
       "    <tr style=\"text-align: right;\">\n",
       "      <th></th>\n",
       "      <th>player_id</th>\n",
       "      <th>nameFirst</th>\n",
       "      <th>nameLast</th>\n",
       "      <th>score</th>\n",
       "      <th>elo</th>\n",
       "    </tr>\n",
       "  </thead>\n",
       "  <tbody>\n",
       "    <tr>\n",
       "      <th>0</th>\n",
       "      <td>cabrm001</td>\n",
       "      <td>Miguel</td>\n",
       "      <td>Cabrera</td>\n",
       "      <td>377.68</td>\n",
       "      <td>1181.091551</td>\n",
       "    </tr>\n",
       "    <tr>\n",
       "      <th>1</th>\n",
       "      <td>goldp001</td>\n",
       "      <td>Paul</td>\n",
       "      <td>Goldschmidt</td>\n",
       "      <td>349.07</td>\n",
       "      <td>1045.904104</td>\n",
       "    </tr>\n",
       "    <tr>\n",
       "      <th>2</th>\n",
       "      <td>troum001</td>\n",
       "      <td>Mike</td>\n",
       "      <td>Trout</td>\n",
       "      <td>347.80</td>\n",
       "      <td>1151.714699</td>\n",
       "    </tr>\n",
       "    <tr>\n",
       "      <th>3</th>\n",
       "      <td>davic003</td>\n",
       "      <td>Chris</td>\n",
       "      <td>Davis</td>\n",
       "      <td>341.03</td>\n",
       "      <td>1026.470536</td>\n",
       "    </tr>\n",
       "    <tr>\n",
       "      <th>4</th>\n",
       "      <td>canor001</td>\n",
       "      <td>Robinson</td>\n",
       "      <td>Cano</td>\n",
       "      <td>323.92</td>\n",
       "      <td>1014.934505</td>\n",
       "    </tr>\n",
       "  </tbody>\n",
       "</table>\n",
       "</div>"
      ],
      "text/plain": [
       "  player_id nameFirst     nameLast   score          elo\n",
       "0  cabrm001    Miguel      Cabrera  377.68  1181.091551\n",
       "1  goldp001      Paul  Goldschmidt  349.07  1045.904104\n",
       "2  troum001      Mike        Trout  347.80  1151.714699\n",
       "3  davic003     Chris        Davis  341.03  1026.470536\n",
       "4  canor001  Robinson         Cano  323.92  1014.934505"
      ]
     },
     "execution_count": 115,
     "metadata": {},
     "output_type": "execute_result"
    }
   ],
   "source": [
    "dfBat.head()"
   ]
  },
  {
   "cell_type": "code",
   "execution_count": 116,
   "metadata": {
    "ExecuteTime": {
     "end_time": "2018-05-04T23:14:54.495860Z",
     "start_time": "2018-05-04T23:14:54.482543Z"
    }
   },
   "outputs": [
    {
     "data": {
      "text/html": [
       "<div>\n",
       "<style scoped>\n",
       "    .dataframe tbody tr th:only-of-type {\n",
       "        vertical-align: middle;\n",
       "    }\n",
       "\n",
       "    .dataframe tbody tr th {\n",
       "        vertical-align: top;\n",
       "    }\n",
       "\n",
       "    .dataframe thead th {\n",
       "        text-align: right;\n",
       "    }\n",
       "</style>\n",
       "<table border=\"1\" class=\"dataframe\">\n",
       "  <thead>\n",
       "    <tr style=\"text-align: right;\">\n",
       "      <th></th>\n",
       "      <th>player_id</th>\n",
       "      <th>nameFirst</th>\n",
       "      <th>nameLast</th>\n",
       "      <th>score</th>\n",
       "      <th>elo</th>\n",
       "    </tr>\n",
       "  </thead>\n",
       "  <tbody>\n",
       "    <tr>\n",
       "      <th>0</th>\n",
       "      <td>kersc001</td>\n",
       "      <td>Clayton</td>\n",
       "      <td>Kershaw</td>\n",
       "      <td>463.95</td>\n",
       "      <td>2279.934282</td>\n",
       "    </tr>\n",
       "    <tr>\n",
       "      <th>1</th>\n",
       "      <td>schem001</td>\n",
       "      <td>Max</td>\n",
       "      <td>Scherzer</td>\n",
       "      <td>446.20</td>\n",
       "      <td>2247.087803</td>\n",
       "    </tr>\n",
       "    <tr>\n",
       "      <th>2</th>\n",
       "      <td>darvy001</td>\n",
       "      <td>Yu</td>\n",
       "      <td>Darvish</td>\n",
       "      <td>427.60</td>\n",
       "      <td>2309.298520</td>\n",
       "    </tr>\n",
       "    <tr>\n",
       "      <th>3</th>\n",
       "      <td>waina001</td>\n",
       "      <td>Adam</td>\n",
       "      <td>Wainwright</td>\n",
       "      <td>411.75</td>\n",
       "      <td>2424.482538</td>\n",
       "    </tr>\n",
       "    <tr>\n",
       "      <th>4</th>\n",
       "      <td>lee-c003</td>\n",
       "      <td>Cliff</td>\n",
       "      <td>Lee</td>\n",
       "      <td>388.20</td>\n",
       "      <td>2178.640151</td>\n",
       "    </tr>\n",
       "  </tbody>\n",
       "</table>\n",
       "</div>"
      ],
      "text/plain": [
       "  player_id nameFirst    nameLast   score          elo\n",
       "0  kersc001   Clayton     Kershaw  463.95  2279.934282\n",
       "1  schem001       Max    Scherzer  446.20  2247.087803\n",
       "2  darvy001        Yu     Darvish  427.60  2309.298520\n",
       "3  waina001      Adam  Wainwright  411.75  2424.482538\n",
       "4  lee-c003     Cliff         Lee  388.20  2178.640151"
      ]
     },
     "execution_count": 116,
     "metadata": {},
     "output_type": "execute_result"
    }
   ],
   "source": [
    "dfPit.head()"
   ]
  },
  {
   "cell_type": "code",
   "execution_count": null,
   "metadata": {},
   "outputs": [],
   "source": []
  }
 ],
 "metadata": {
  "kernelspec": {
   "display_name": "Python 3",
   "language": "python",
   "name": "python3"
  },
  "language_info": {
   "codemirror_mode": {
    "name": "ipython",
    "version": 3
   },
   "file_extension": ".py",
   "mimetype": "text/x-python",
   "name": "python",
   "nbconvert_exporter": "python",
   "pygments_lexer": "ipython3",
   "version": "3.6.4"
  }
 },
 "nbformat": 4,
 "nbformat_minor": 2
}
